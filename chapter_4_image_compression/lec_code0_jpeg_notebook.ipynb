{
 "cells": [
  {
   "cell_type": "markdown",
   "metadata": {},
   "source": [
    "This notebook describe the DCT transform used in JPEG image compression"
   ]
  },
  {
   "cell_type": "code",
   "execution_count": 1,
   "metadata": {},
   "outputs": [],
   "source": [
    "import numpy as np\n",
    "from numpy import pi\n",
    "from numpy import cos\n",
    "from numpy import zeros\n",
    "from numpy import r_\n",
    "from scipy import signal\n",
    "\n",
    "import matplotlib.pylab as pylab\n",
    "from scipy.fftpack import dct, idct\n",
    "import matplotlib.pyplot as plt\n",
    "plt.close('all')"
   ]
  },
  {
   "cell_type": "code",
   "execution_count": 6,
   "metadata": {},
   "outputs": [
    {
     "name": "stdout",
     "output_type": "stream",
     "text": [
      "f =  [ 1.000  1.000  1.000  1.000  2.000  2.000  2.000  2.000]\n",
      "Fu =  [ 4.243 -1.281  0.000  0.450  0.000 -0.301  0.000  0.255]\n",
      "f_recon =  [ 1.000  1.000  1.000  1.000  2.000  2.000  2.000  2.000]\n",
      " f equal f_recon ? -> True\n"
     ]
    },
    {
     "data": {
      "image/png": "[encoded data removed]",
      "text/plain": [
       "<Figure size 432x288 with 1 Axes>"
      ]
     },
     "metadata": {
      "needs_background": "light"
     },
     "output_type": "display_data"
    }
   ],
   "source": [
    "#%% Use DCT transform from the scipy library\n",
    "\n",
    "np.set_printoptions(formatter={'float': '{: 0.3f}'.format})\n",
    "\n",
    "# numpy array\n",
    "f = np.array([1,1,1,1,2,2,2,2], dtype='float32')\n",
    "plt.stem(f) , plt.title('Test signal')\n",
    "print(\"f = \",f)\n",
    " \n",
    "# apply dct function on array\n",
    "F = dct(f, norm = 'ortho')\n",
    "print(\"Fu = \",F) # \n",
    "\n",
    "f_recon = idct(F, norm = 'ortho') \n",
    "print(\"f_recon = \",f_recon)\n",
    " \n",
    "status = np.allclose(f,f_recon) \n",
    "print(\" f equal f_recon ? ->\", status)"
   ]
  },
  {
   "cell_type": "code",
   "execution_count": 4,
   "metadata": {},
   "outputs": [
    {
     "name": "stdout",
     "output_type": "stream",
     "text": [
      " DCT coefficient for frequency u=0 F[0] = 4.242640687119285\n"
     ]
    }
   ],
   "source": [
    "#%% Try find the coefficient for F[0], u=0  frequency 0\n",
    "u=0\n",
    "\n",
    "cosv = np.zeros(8)\n",
    "F = np.zeros(8)\n",
    "\n",
    "for i in range(8):\n",
    "    if u==0: \n",
    "        Cu = 1/np.sqrt(2)\n",
    "    else: Cu=1\n",
    "    cosv[i] = (Cu/2) *cos( (2*i+1)*u*pi/16)\n",
    "\n",
    "# F[0] represent similarity between the signal in vec f with ref signal cosv(with u=0)\n",
    "F[u] =  np.dot(f,cosv)    # F[0]=4.24\n",
    "print(\" DCT coefficient for frequency u=0 F[0] =\" , F[u])"
   ]
  },
  {
   "cell_type": "code",
   "execution_count": 7,
   "metadata": {},
   "outputs": [
    {
     "name": "stdout",
     "output_type": "stream",
     "text": [
      "[ 4.243 -1.281 -0.000  0.450  0.000 -0.301 -0.000  0.255]\n",
      "Try predict what is the most dominant frequency in the test signal\n"
     ]
    }
   ],
   "source": [
    "#%% Do for u = 0,1,2 ...7\n",
    "for u in range(8):\n",
    "    # compute ref signal for frequency u\n",
    "    for i in range(8):\n",
    "        i = int(i)\n",
    "        if u==0: \n",
    "            Cu = 1/np.sqrt(2)\n",
    "        else: Cu=1\n",
    "        cosv[i] = (Cu/2) *cos( (2*i+1)*u*pi/16)\n",
    "    \n",
    "    F[u] = np.dot(f,cosv)  \n",
    "print(F)\n",
    "print('Try predict what is the most dominant frequency in the test signal')"
   ]
  },
  {
   "cell_type": "code",
   "execution_count": 10,
   "metadata": {},
   "outputs": [
    {
     "data": {
      "text/plain": [
       "(<StemContainer object of 3 artists>,\n",
       " Text(0.5, 1.0, 'Reference signal for u = 2'))"
      ]
     },
     "execution_count": 10,
     "metadata": {},
     "output_type": "execute_result"
    },
    {
     "data": {
      "image/png": "[encoded data removed]",
      "text/plain": [
       "<Figure size 432x288 with 1 Axes>"
      ]
     },
     "metadata": {
      "needs_background": "light"
     },
     "output_type": "display_data"
    }
   ],
   "source": [
    "#%% Plot the reference signal\n",
    "# matrix to store all ref signal\n",
    "cosvv = np.zeros((8,8))\n",
    "for u in range(8):\n",
    "    # compute ref signal for frequency u\n",
    "    for i in range(8):\n",
    "        i = int(i)\n",
    "        if u==0: \n",
    "            Cu = 1/np.sqrt(2)\n",
    "        else: Cu=1\n",
    "        cosvv[u,i] = (Cu/2) *cos( (2*i+1)*u*pi/16)\n",
    "\n",
    "u=2\n",
    "refSig = cosvv[u,:]\n",
    "plt.stem(refSig), plt.title('Reference signal for u = {}'.format(u))"
   ]
  },
  {
   "cell_type": "code",
   "execution_count": 11,
   "metadata": {},
   "outputs": [
    {
     "data": {
      "text/plain": [
       "Text(0.5, 1.0, ' test signal  ')"
      ]
     },
     "execution_count": 11,
     "metadata": {},
     "output_type": "execute_result"
    },
    {
     "data": {
      "image/png": "[encoded data removed]",
      "text/plain": [
       "<Figure size 216x144 with 1 Axes>"
      ]
     },
     "metadata": {
      "needs_background": "light"
     },
     "output_type": "display_data"
    },
    {
     "data": {
      "image/png": "[encoded data removed]",
      "text/plain": [
       "<Figure size 216x144 with 1 Axes>"
      ]
     },
     "metadata": {
      "needs_background": "light"
     },
     "output_type": "display_data"
    },
    {
     "data": {
      "image/png": "[encoded data removed]",
      "text/plain": [
       "<Figure size 216x144 with 1 Axes>"
      ]
     },
     "metadata": {
      "needs_background": "light"
     },
     "output_type": "display_data"
    },
    {
     "data": {
      "image/png": "[encoded data removed]",
      "text/plain": [
       "<Figure size 216x144 with 1 Axes>"
      ]
     },
     "metadata": {
      "needs_background": "light"
     },
     "output_type": "display_data"
    },
    {
     "data": {
      "image/png": "[encoded data removed]",
      "text/plain": [
       "<Figure size 216x144 with 1 Axes>"
      ]
     },
     "metadata": {
      "needs_background": "light"
     },
     "output_type": "display_data"
    },
    {
     "data": {
      "image/png": "[encoded data removed]",
      "text/plain": [
       "<Figure size 216x144 with 1 Axes>"
      ]
     },
     "metadata": {
      "needs_background": "light"
     },
     "output_type": "display_data"
    },
    {
     "data": {
      "image/png": "[encoded data removed]",
      "text/plain": [
       "<Figure size 216x144 with 1 Axes>"
      ]
     },
     "metadata": {
      "needs_background": "light"
     },
     "output_type": "display_data"
    },
    {
     "data": {
      "image/png": "[encoded data removed]",
      "text/plain": [
       "<Figure size 216x144 with 1 Axes>"
      ]
     },
     "metadata": {
      "needs_background": "light"
     },
     "output_type": "display_data"
    },
    {
     "data": {
      "image/png": "[encoded data removed]",
      "text/plain": [
       "<Figure size 216x144 with 1 Axes>"
      ]
     },
     "metadata": {
      "needs_background": "light"
     },
     "output_type": "display_data"
    }
   ],
   "source": [
    "#%% Bar chart plot\n",
    "import matplotlib.pyplot as plt\n",
    "plt.close('all')\n",
    "pylab.rcParams['figure.figsize'] = (3, 2)\n",
    "index= np.arange(8)\n",
    "\n",
    "for uu in range(8):\n",
    "    plt.figure()\n",
    "    string = \" Reference cos signal with u = {}\".format(uu)\n",
    "    val = list(cosvv[uu,:])\n",
    "    plt.bar(index,val)\n",
    "    plt.xticks(index)\n",
    "    plt.title(string)\n",
    "    \n",
    "plt.figure()\n",
    "string = \" test signal  \"\n",
    "val = list(f)\n",
    "plt.bar(index,val)\n",
    "plt.xticks(index)\n",
    "plt.title(string)"
   ]
  },
  {
   "cell_type": "code",
   "execution_count": null,
   "metadata": {},
   "outputs": [],
   "source": []
  },
  {
   "cell_type": "code",
   "execution_count": null,
   "metadata": {},
   "outputs": [],
   "source": []
  },
  {
   "cell_type": "code",
   "execution_count": null,
   "metadata": {},
   "outputs": [],
   "source": []
  },
  {
   "cell_type": "code",
   "execution_count": null,
   "metadata": {},
   "outputs": [],
   "source": []
  },
  {
   "cell_type": "code",
   "execution_count": null,
   "metadata": {},
   "outputs": [],
   "source": []
  },
  {
   "cell_type": "code",
   "execution_count": null,
   "metadata": {},
   "outputs": [],
   "source": []
  }
 ],
 "metadata": {
  "kernelspec": {
   "display_name": "Python 3",
   "language": "python",
   "name": "python3"
  },
  "language_info": {
   "codemirror_mode": {
    "name": "ipython",
    "version": 3
   },
   "file_extension": ".py",
   "mimetype": "text/x-python",
   "name": "python",
   "nbconvert_exporter": "python",
   "pygments_lexer": "ipython3",
   "version": "3.7.7"
  },
  "toc": {
   "base_numbering": 1,
   "nav_menu": {},
   "number_sections": true,
   "sideBar": true,
   "skip_h1_title": false,
   "title_cell": "Table of Contents",
   "title_sidebar": "Contents",
   "toc_cell": false,
   "toc_position": {},
   "toc_section_display": true,
   "toc_window_display": false
  },
  "varInspector": {
   "cols": {
    "lenName": 16,
    "lenType": 16,
    "lenVar": 40
   },
   "kernels_config": {
    "python": {
     "delete_cmd_postfix": "",
     "delete_cmd_prefix": "del ",
     "library": "var_list.py",
     "varRefreshCmd": "print(var_dic_list())"
    },
    "r": {
     "delete_cmd_postfix": ") ",
     "delete_cmd_prefix": "rm(",
     "library": "var_list.r",
     "varRefreshCmd": "cat(var_dic_list()) "
    }
   },
   "types_to_exclude": [
    "module",
    "function",
    "builtin_function_or_method",
    "instance",
    "_Feature"
   ],
   "window_display": false
  }
 },
 "nbformat": 4,
 "nbformat_minor": 4
}
